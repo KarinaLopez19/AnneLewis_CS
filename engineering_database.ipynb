{
 "cells": [
  {
   "cell_type": "markdown",
   "metadata": {},
   "source": [
    "# Engineering Database\n",
    "### Last updated: 06/23/2021\n",
    "\n",
    "**Purpose:** Wrangle data to desired schema outlined on ALS - Data Engineering Exercise producing a people.csv and acquisition_facts.csv file."
   ]
  },
  {
   "cell_type": "code",
   "execution_count": 84,
   "metadata": {},
   "outputs": [],
   "source": [
    "import boto3\n",
    "import pandas as pd\n",
    "import os"
   ]
  },
  {
   "cell_type": "code",
   "execution_count": 85,
   "metadata": {},
   "outputs": [],
   "source": [
    "# enter your working directory path\n",
    "wd = ''\n",
    "os.chdir = wd"
   ]
  },
  {
   "cell_type": "code",
   "execution_count": 8,
   "metadata": {},
   "outputs": [],
   "source": [
    "# retrieve your datasets from AWS\n",
    "client = boto3.client('s3')\n",
    "\n",
    "info_path = 'https://als-hiring.s3.amazonaws.com/fake_data/2020-07-01_17%3A11%3A00/cons.csv'\n",
    "email_path = 'https://als-hiring.s3.amazonaws.com/fake_data/2020-07-01_17%3A11%3A00/cons_email.csv'\n",
    "subs_path = 'https://als-hiring.s3.amazonaws.com/fake_data/2020-07-01_17%3A11%3A00/cons_email_chapter_subscription.csv'\n",
    "\n",
    "info_df = pd.read_csv(info_path)\n",
    "email_df = pd.read_csv(email_path)\n",
    "subs_df = pd.read_csv(subs_path)\n",
    "\n"
   ]
  },
  {
   "cell_type": "code",
   "execution_count": 10,
   "metadata": {},
   "outputs": [
    {
     "data": {
      "text/html": [
       "<div>\n",
       "<style scoped>\n",
       "    .dataframe tbody tr th:only-of-type {\n",
       "        vertical-align: middle;\n",
       "    }\n",
       "\n",
       "    .dataframe tbody tr th {\n",
       "        vertical-align: top;\n",
       "    }\n",
       "\n",
       "    .dataframe thead th {\n",
       "        text-align: right;\n",
       "    }\n",
       "</style>\n",
       "<table border=\"1\" class=\"dataframe\">\n",
       "  <thead>\n",
       "    <tr style=\"text-align: right;\">\n",
       "      <th></th>\n",
       "      <th>cons_id</th>\n",
       "      <th>prefix</th>\n",
       "      <th>firstname</th>\n",
       "      <th>middlename</th>\n",
       "      <th>lastname</th>\n",
       "      <th>suffix</th>\n",
       "      <th>salutation</th>\n",
       "      <th>gender</th>\n",
       "      <th>birth_dt</th>\n",
       "      <th>title</th>\n",
       "      <th>...</th>\n",
       "      <th>change_password_next_login</th>\n",
       "      <th>consent_type_id</th>\n",
       "      <th>create_dt</th>\n",
       "      <th>create_app</th>\n",
       "      <th>create_user</th>\n",
       "      <th>modified_dt</th>\n",
       "      <th>modified_app</th>\n",
       "      <th>modified_user</th>\n",
       "      <th>status</th>\n",
       "      <th>note</th>\n",
       "    </tr>\n",
       "  </thead>\n",
       "  <tbody>\n",
       "    <tr>\n",
       "      <th>0</th>\n",
       "      <td>1</td>\n",
       "      <td>NaN</td>\n",
       "      <td>NaN</td>\n",
       "      <td>Lee</td>\n",
       "      <td>NaN</td>\n",
       "      <td>MD</td>\n",
       "      <td>NaN</td>\n",
       "      <td>E</td>\n",
       "      <td>NaN</td>\n",
       "      <td>vSkSIzEQJdXnqeTTTXSG</td>\n",
       "      <td>...</td>\n",
       "      <td>0</td>\n",
       "      <td>5958</td>\n",
       "      <td>Fri, 1983-08-26 06:02:03</td>\n",
       "      <td>1484</td>\n",
       "      <td>6162</td>\n",
       "      <td>Sun, 2015-12-27 09:28:02</td>\n",
       "      <td>4022</td>\n",
       "      <td>6349</td>\n",
       "      <td>1</td>\n",
       "      <td>NaN</td>\n",
       "    </tr>\n",
       "    <tr>\n",
       "      <th>1</th>\n",
       "      <td>2</td>\n",
       "      <td>NaN</td>\n",
       "      <td>NaN</td>\n",
       "      <td>NaN</td>\n",
       "      <td>NaN</td>\n",
       "      <td>II</td>\n",
       "      <td>boFqBKgLlSgEZsFrgCZd</td>\n",
       "      <td>E</td>\n",
       "      <td>Mon, 2004-11-15</td>\n",
       "      <td>NaN</td>\n",
       "      <td>...</td>\n",
       "      <td>1</td>\n",
       "      <td>4236</td>\n",
       "      <td>Mon, 1979-03-05 21:08:54</td>\n",
       "      <td>4176</td>\n",
       "      <td>5476</td>\n",
       "      <td>Tue, 1989-06-20 13:28:57</td>\n",
       "      <td>9010</td>\n",
       "      <td>5698</td>\n",
       "      <td>1</td>\n",
       "      <td>NaN</td>\n",
       "    </tr>\n",
       "  </tbody>\n",
       "</table>\n",
       "<p>2 rows × 29 columns</p>\n",
       "</div>"
      ],
      "text/plain": [
       "   cons_id prefix firstname middlename lastname suffix            salutation  \\\n",
       "0        1    NaN       NaN        Lee      NaN     MD                   NaN   \n",
       "1        2    NaN       NaN        NaN      NaN     II  boFqBKgLlSgEZsFrgCZd   \n",
       "\n",
       "  gender         birth_dt                 title  ...  \\\n",
       "0      E              NaN  vSkSIzEQJdXnqeTTTXSG  ...   \n",
       "1      E  Mon, 2004-11-15                   NaN  ...   \n",
       "\n",
       "  change_password_next_login consent_type_id                 create_dt  \\\n",
       "0                          0            5958  Fri, 1983-08-26 06:02:03   \n",
       "1                          1            4236  Mon, 1979-03-05 21:08:54   \n",
       "\n",
       "  create_app create_user               modified_dt modified_app  \\\n",
       "0       1484        6162  Sun, 2015-12-27 09:28:02         4022   \n",
       "1       4176        5476  Tue, 1989-06-20 13:28:57         9010   \n",
       "\n",
       "   modified_user  status  note  \n",
       "0           6349       1   NaN  \n",
       "1           5698       1   NaN  \n",
       "\n",
       "[2 rows x 29 columns]"
      ]
     },
     "metadata": {},
     "output_type": "display_data"
    },
    {
     "name": "stdout",
     "output_type": "stream",
     "text": [
      "Index(['cons_id', 'prefix', 'firstname', 'middlename', 'lastname', 'suffix',\n",
      "       'salutation', 'gender', 'birth_dt', 'title', 'employer', 'occupation',\n",
      "       'income', 'source', 'subsource', 'userid', 'password', 'is_validated',\n",
      "       'is_banned', 'change_password_next_login', 'consent_type_id',\n",
      "       'create_dt', 'create_app', 'create_user', 'modified_dt', 'modified_app',\n",
      "       'modified_user', 'status', 'note'],\n",
      "      dtype='object')\n"
     ]
    },
    {
     "data": {
      "text/html": [
       "<div>\n",
       "<style scoped>\n",
       "    .dataframe tbody tr th:only-of-type {\n",
       "        vertical-align: middle;\n",
       "    }\n",
       "\n",
       "    .dataframe tbody tr th {\n",
       "        vertical-align: top;\n",
       "    }\n",
       "\n",
       "    .dataframe thead th {\n",
       "        text-align: right;\n",
       "    }\n",
       "</style>\n",
       "<table border=\"1\" class=\"dataframe\">\n",
       "  <thead>\n",
       "    <tr style=\"text-align: right;\">\n",
       "      <th></th>\n",
       "      <th>cons_email_id</th>\n",
       "      <th>cons_id</th>\n",
       "      <th>cons_email_type_id</th>\n",
       "      <th>is_primary</th>\n",
       "      <th>email</th>\n",
       "      <th>canonical_local_part</th>\n",
       "      <th>domain</th>\n",
       "      <th>double_validation</th>\n",
       "      <th>create_dt</th>\n",
       "      <th>create_app</th>\n",
       "      <th>create_user</th>\n",
       "      <th>modified_dt</th>\n",
       "      <th>modified_app</th>\n",
       "      <th>modified_user</th>\n",
       "      <th>status</th>\n",
       "      <th>note</th>\n",
       "    </tr>\n",
       "  </thead>\n",
       "  <tbody>\n",
       "    <tr>\n",
       "      <th>0</th>\n",
       "      <td>1</td>\n",
       "      <td>548198</td>\n",
       "      <td>3361</td>\n",
       "      <td>1</td>\n",
       "      <td>xmartinez@vincent.com</td>\n",
       "      <td>NaN</td>\n",
       "      <td>gmail.com</td>\n",
       "      <td>NaN</td>\n",
       "      <td>Wed, 1994-01-26 23:49:16</td>\n",
       "      <td>4072</td>\n",
       "      <td>9954</td>\n",
       "      <td>Sat, 2014-04-19 19:10:39</td>\n",
       "      <td>1990</td>\n",
       "      <td>7595</td>\n",
       "      <td>1</td>\n",
       "      <td>NaN</td>\n",
       "    </tr>\n",
       "    <tr>\n",
       "      <th>1</th>\n",
       "      <td>2</td>\n",
       "      <td>491137</td>\n",
       "      <td>2474</td>\n",
       "      <td>1</td>\n",
       "      <td>hmiller@haynes.biz</td>\n",
       "      <td>jqCyozTDojYuylQPTHfm</td>\n",
       "      <td>hotmail.com</td>\n",
       "      <td>NaN</td>\n",
       "      <td>Thu, 1999-12-09 06:18:27</td>\n",
       "      <td>1600</td>\n",
       "      <td>5716</td>\n",
       "      <td>Sat, 1984-07-14 05:55:27</td>\n",
       "      <td>4686</td>\n",
       "      <td>3248</td>\n",
       "      <td>1</td>\n",
       "      <td>NaN</td>\n",
       "    </tr>\n",
       "  </tbody>\n",
       "</table>\n",
       "</div>"
      ],
      "text/plain": [
       "   cons_email_id  cons_id  cons_email_type_id  is_primary  \\\n",
       "0              1   548198                3361           1   \n",
       "1              2   491137                2474           1   \n",
       "\n",
       "                   email  canonical_local_part       domain double_validation  \\\n",
       "0  xmartinez@vincent.com                   NaN    gmail.com               NaN   \n",
       "1     hmiller@haynes.biz  jqCyozTDojYuylQPTHfm  hotmail.com               NaN   \n",
       "\n",
       "                  create_dt  create_app  create_user  \\\n",
       "0  Wed, 1994-01-26 23:49:16        4072         9954   \n",
       "1  Thu, 1999-12-09 06:18:27        1600         5716   \n",
       "\n",
       "                modified_dt  modified_app  modified_user  status note  \n",
       "0  Sat, 2014-04-19 19:10:39          1990           7595       1  NaN  \n",
       "1  Sat, 1984-07-14 05:55:27          4686           3248       1  NaN  "
      ]
     },
     "metadata": {},
     "output_type": "display_data"
    },
    {
     "name": "stdout",
     "output_type": "stream",
     "text": [
      "Index(['cons_email_id', 'cons_id', 'cons_email_type_id', 'is_primary', 'email',\n",
      "       'canonical_local_part', 'domain', 'double_validation', 'create_dt',\n",
      "       'create_app', 'create_user', 'modified_dt', 'modified_app',\n",
      "       'modified_user', 'status', 'note'],\n",
      "      dtype='object')\n"
     ]
    },
    {
     "data": {
      "text/html": [
       "<div>\n",
       "<style scoped>\n",
       "    .dataframe tbody tr th:only-of-type {\n",
       "        vertical-align: middle;\n",
       "    }\n",
       "\n",
       "    .dataframe tbody tr th {\n",
       "        vertical-align: top;\n",
       "    }\n",
       "\n",
       "    .dataframe thead th {\n",
       "        text-align: right;\n",
       "    }\n",
       "</style>\n",
       "<table border=\"1\" class=\"dataframe\">\n",
       "  <thead>\n",
       "    <tr style=\"text-align: right;\">\n",
       "      <th></th>\n",
       "      <th>cons_email_chapter_subscription_id</th>\n",
       "      <th>cons_email_id</th>\n",
       "      <th>chapter_id</th>\n",
       "      <th>isunsub</th>\n",
       "      <th>unsub_dt</th>\n",
       "      <th>modified_dt</th>\n",
       "    </tr>\n",
       "  </thead>\n",
       "  <tbody>\n",
       "    <tr>\n",
       "      <th>0</th>\n",
       "      <td>1</td>\n",
       "      <td>332188</td>\n",
       "      <td>1</td>\n",
       "      <td>1</td>\n",
       "      <td>Sat, 1971-06-12 15:38:44</td>\n",
       "      <td>Thu, 1990-06-28 10:54:20</td>\n",
       "    </tr>\n",
       "    <tr>\n",
       "      <th>1</th>\n",
       "      <td>2</td>\n",
       "      <td>536526</td>\n",
       "      <td>1</td>\n",
       "      <td>1</td>\n",
       "      <td>Wed, 2006-07-12 01:50:45</td>\n",
       "      <td>Thu, 1979-09-20 06:02:35</td>\n",
       "    </tr>\n",
       "  </tbody>\n",
       "</table>\n",
       "</div>"
      ],
      "text/plain": [
       "   cons_email_chapter_subscription_id  cons_email_id  chapter_id  isunsub  \\\n",
       "0                                   1         332188           1        1   \n",
       "1                                   2         536526           1        1   \n",
       "\n",
       "                   unsub_dt               modified_dt  \n",
       "0  Sat, 1971-06-12 15:38:44  Thu, 1990-06-28 10:54:20  \n",
       "1  Wed, 2006-07-12 01:50:45  Thu, 1979-09-20 06:02:35  "
      ]
     },
     "metadata": {},
     "output_type": "display_data"
    },
    {
     "name": "stdout",
     "output_type": "stream",
     "text": [
      "Index(['cons_email_chapter_subscription_id', 'cons_email_id', 'chapter_id',\n",
      "       'isunsub', 'unsub_dt', 'modified_dt'],\n",
      "      dtype='object')\n"
     ]
    }
   ],
   "source": [
    "# display your datasets\n",
    "display(info_df.head(n = 2))\n",
    "print(info_df.columns)\n",
    "\n",
    "display(email_df.head(n = 2))\n",
    "print(email_df.columns)\n",
    "\n",
    "display(subs_df.head(n = 2))\n",
    "print(subs_df.columns)"
   ]
  },
  {
   "cell_type": "markdown",
   "metadata": {},
   "source": [
    "# Exercise 1"
   ]
  },
  {
   "cell_type": "code",
   "execution_count": 48,
   "metadata": {},
   "outputs": [],
   "source": [
    "# create a table that only includes primary addresses\n",
    "temp_email = email_df.loc[email_df['is_primary'] == 1]\n"
   ]
  },
  {
   "cell_type": "code",
   "execution_count": 49,
   "metadata": {},
   "outputs": [],
   "source": [
    "# filter to only include subscription statuses where chapter_id = 1\n",
    "temp_subs = subs_df.loc[subs_df['chapter_id'] == 1]\n"
   ]
  },
  {
   "cell_type": "code",
   "execution_count": 50,
   "metadata": {},
   "outputs": [
    {
     "data": {
      "text/plain": [
       "(275484, 6)"
      ]
     },
     "execution_count": 50,
     "metadata": {},
     "output_type": "execute_result"
    }
   ],
   "source": [
    "temp_subs.shape"
   ]
  },
  {
   "cell_type": "markdown",
   "metadata": {},
   "source": [
    "Mapping out the schema above, and looking at the shared id columns across each tables, we identify the columns we are interested in: \n",
    "\n"
   ]
  },
  {
   "cell_type": "markdown",
   "metadata": {},
   "source": [
    "| new_column_name      | old_column_name | table | notes |\n",
    "| ----------- | ----------- | ----------- | ----------- |\n",
    "|cons_id    |        |  email       |     ID to info    |\n",
    "|email    |email         |email         |         |\n",
    "|created_dt    |create_dt         |email         |         |\n",
    "|cons_email_id    |         |email         |ID to subs         |\n",
    "|      |     |      |     |\n",
    "|cons_id    |         |info         |ID to subs         |\n",
    "|code    |source         |info         |         |\n",
    "|      |     |      |     |\n",
    "|cons_email_id    |         |         |ID to info         |\n",
    "|is_unsub    |isunsub         |subs         |         |\n",
    "|updated_dt    |modified_dt         |subs         |         |\n"
   ]
  },
  {
   "cell_type": "code",
   "execution_count": 51,
   "metadata": {},
   "outputs": [],
   "source": [
    "# filter your datasets to only include columns you are interested in using\n",
    "temp_email = temp_email[['cons_email_id', 'cons_id', 'email', 'create_dt']]\n",
    "\n",
    "temp_info = info_df[['cons_id', 'source']]\n",
    "\n",
    "temp_subs = temp_subs[['cons_email_id', 'isunsub', 'modified_dt']]"
   ]
  },
  {
   "cell_type": "code",
   "execution_count": 52,
   "metadata": {},
   "outputs": [],
   "source": [
    "# merge datasets together keeping only the ids that are found in both datasets \n",
    "# we can assume that we are only interested in the subscriptions identified as primary email addresses \n",
    "\n",
    "df = pd.merge(temp_email, temp_info, on = 'cons_id',  how = 'inner')"
   ]
  },
  {
   "cell_type": "code",
   "execution_count": 53,
   "metadata": {},
   "outputs": [],
   "source": [
    "df = pd.merge(df, temp_subs, on = 'cons_email_id', how = 'inner')"
   ]
  },
  {
   "cell_type": "code",
   "execution_count": 54,
   "metadata": {},
   "outputs": [
    {
     "data": {
      "text/plain": [
       "0"
      ]
     },
     "execution_count": 54,
     "metadata": {},
     "output_type": "execute_result"
    }
   ],
   "source": [
    "# If an email is not present in the subscription table, it is assumed that they are still subscribed if chapter ID = 1\n",
    "df['modified_dt'].isnull().sum()\n"
   ]
  },
  {
   "cell_type": "code",
   "execution_count": 55,
   "metadata": {},
   "outputs": [
    {
     "data": {
      "text/html": [
       "<div>\n",
       "<style scoped>\n",
       "    .dataframe tbody tr th:only-of-type {\n",
       "        vertical-align: middle;\n",
       "    }\n",
       "\n",
       "    .dataframe tbody tr th {\n",
       "        vertical-align: top;\n",
       "    }\n",
       "\n",
       "    .dataframe thead th {\n",
       "        text-align: right;\n",
       "    }\n",
       "</style>\n",
       "<table border=\"1\" class=\"dataframe\">\n",
       "  <thead>\n",
       "    <tr style=\"text-align: right;\">\n",
       "      <th></th>\n",
       "      <th>cons_email_id</th>\n",
       "      <th>cons_id</th>\n",
       "      <th>email</th>\n",
       "      <th>create_dt</th>\n",
       "      <th>source</th>\n",
       "      <th>isunsub</th>\n",
       "      <th>modified_dt</th>\n",
       "    </tr>\n",
       "  </thead>\n",
       "  <tbody>\n",
       "    <tr>\n",
       "      <th>0</th>\n",
       "      <td>3</td>\n",
       "      <td>413429</td>\n",
       "      <td>aaron64@yahoo.com</td>\n",
       "      <td>Wed, 1992-11-18 16:46:27</td>\n",
       "      <td>NaN</td>\n",
       "      <td>1</td>\n",
       "      <td>Sun, 1977-10-02 12:32:10</td>\n",
       "    </tr>\n",
       "    <tr>\n",
       "      <th>1</th>\n",
       "      <td>4</td>\n",
       "      <td>347346</td>\n",
       "      <td>wyattvincent@hotmail.com</td>\n",
       "      <td>Sat, 1983-11-26 16:49:14</td>\n",
       "      <td>NaN</td>\n",
       "      <td>1</td>\n",
       "      <td>Wed, 2003-05-28 02:47:44</td>\n",
       "    </tr>\n",
       "    <tr>\n",
       "      <th>2</th>\n",
       "      <td>5</td>\n",
       "      <td>443000</td>\n",
       "      <td>tspencer@hotmail.com</td>\n",
       "      <td>Wed, 2000-11-15 13:28:34</td>\n",
       "      <td>twitter</td>\n",
       "      <td>1</td>\n",
       "      <td>Tue, 2000-04-11 15:20:13</td>\n",
       "    </tr>\n",
       "    <tr>\n",
       "      <th>3</th>\n",
       "      <td>6</td>\n",
       "      <td>412213</td>\n",
       "      <td>ogarcia@gmail.com</td>\n",
       "      <td>Thu, 1984-03-08 11:40:21</td>\n",
       "      <td>NaN</td>\n",
       "      <td>1</td>\n",
       "      <td>Sat, 1992-07-18 17:35:23</td>\n",
       "    </tr>\n",
       "    <tr>\n",
       "      <th>4</th>\n",
       "      <td>9</td>\n",
       "      <td>603436</td>\n",
       "      <td>madeline69@mccarthy-jackson.com</td>\n",
       "      <td>Mon, 1976-06-28 08:58:19</td>\n",
       "      <td>twitter</td>\n",
       "      <td>1</td>\n",
       "      <td>Thu, 1999-02-04 05:46:24</td>\n",
       "    </tr>\n",
       "  </tbody>\n",
       "</table>\n",
       "</div>"
      ],
      "text/plain": [
       "   cons_email_id  cons_id                            email  \\\n",
       "0              3   413429                aaron64@yahoo.com   \n",
       "1              4   347346         wyattvincent@hotmail.com   \n",
       "2              5   443000             tspencer@hotmail.com   \n",
       "3              6   412213                ogarcia@gmail.com   \n",
       "4              9   603436  madeline69@mccarthy-jackson.com   \n",
       "\n",
       "                  create_dt   source  isunsub               modified_dt  \n",
       "0  Wed, 1992-11-18 16:46:27      NaN        1  Sun, 1977-10-02 12:32:10  \n",
       "1  Sat, 1983-11-26 16:49:14      NaN        1  Wed, 2003-05-28 02:47:44  \n",
       "2  Wed, 2000-11-15 13:28:34  twitter        1  Tue, 2000-04-11 15:20:13  \n",
       "3  Thu, 1984-03-08 11:40:21      NaN        1  Sat, 1992-07-18 17:35:23  \n",
       "4  Mon, 1976-06-28 08:58:19  twitter        1  Thu, 1999-02-04 05:46:24  "
      ]
     },
     "execution_count": 55,
     "metadata": {},
     "output_type": "execute_result"
    }
   ],
   "source": [
    "df.head()"
   ]
  },
  {
   "cell_type": "code",
   "execution_count": 57,
   "metadata": {},
   "outputs": [],
   "source": [
    "# modify the column names\n",
    "col_dict = {'source': 'code', 'isunsub': 'is_unsub', 'create_dt': 'created_dt', 'modified_dt': 'updated_dt'}\n",
    "df = df.rename(columns = col_dict )"
   ]
  },
  {
   "cell_type": "code",
   "execution_count": 68,
   "metadata": {},
   "outputs": [
    {
     "data": {
      "text/html": [
       "<div>\n",
       "<style scoped>\n",
       "    .dataframe tbody tr th:only-of-type {\n",
       "        vertical-align: middle;\n",
       "    }\n",
       "\n",
       "    .dataframe tbody tr th {\n",
       "        vertical-align: top;\n",
       "    }\n",
       "\n",
       "    .dataframe thead th {\n",
       "        text-align: right;\n",
       "    }\n",
       "</style>\n",
       "<table border=\"1\" class=\"dataframe\">\n",
       "  <thead>\n",
       "    <tr style=\"text-align: right;\">\n",
       "      <th></th>\n",
       "      <th>cons_email_id</th>\n",
       "      <th>cons_id</th>\n",
       "      <th>email</th>\n",
       "      <th>created_dt</th>\n",
       "      <th>code</th>\n",
       "      <th>is_unsub</th>\n",
       "      <th>updated_dt</th>\n",
       "    </tr>\n",
       "  </thead>\n",
       "  <tbody>\n",
       "    <tr>\n",
       "      <th>0</th>\n",
       "      <td>3</td>\n",
       "      <td>413429</td>\n",
       "      <td>aaron64@yahoo.com</td>\n",
       "      <td>1992-11-18 16:46:27</td>\n",
       "      <td>NaN</td>\n",
       "      <td>1</td>\n",
       "      <td>1977-10-02 12:32:10</td>\n",
       "    </tr>\n",
       "    <tr>\n",
       "      <th>1</th>\n",
       "      <td>4</td>\n",
       "      <td>347346</td>\n",
       "      <td>wyattvincent@hotmail.com</td>\n",
       "      <td>1983-11-26 16:49:14</td>\n",
       "      <td>NaN</td>\n",
       "      <td>1</td>\n",
       "      <td>2003-05-28 02:47:44</td>\n",
       "    </tr>\n",
       "    <tr>\n",
       "      <th>2</th>\n",
       "      <td>5</td>\n",
       "      <td>443000</td>\n",
       "      <td>tspencer@hotmail.com</td>\n",
       "      <td>2000-11-15 13:28:34</td>\n",
       "      <td>twitter</td>\n",
       "      <td>1</td>\n",
       "      <td>2000-04-11 15:20:13</td>\n",
       "    </tr>\n",
       "    <tr>\n",
       "      <th>3</th>\n",
       "      <td>6</td>\n",
       "      <td>412213</td>\n",
       "      <td>ogarcia@gmail.com</td>\n",
       "      <td>1984-03-08 11:40:21</td>\n",
       "      <td>NaN</td>\n",
       "      <td>1</td>\n",
       "      <td>1992-07-18 17:35:23</td>\n",
       "    </tr>\n",
       "    <tr>\n",
       "      <th>4</th>\n",
       "      <td>9</td>\n",
       "      <td>603436</td>\n",
       "      <td>madeline69@mccarthy-jackson.com</td>\n",
       "      <td>1976-06-28 08:58:19</td>\n",
       "      <td>twitter</td>\n",
       "      <td>1</td>\n",
       "      <td>1999-02-04 05:46:24</td>\n",
       "    </tr>\n",
       "  </tbody>\n",
       "</table>\n",
       "</div>"
      ],
      "text/plain": [
       "   cons_email_id  cons_id                            email  \\\n",
       "0              3   413429                aaron64@yahoo.com   \n",
       "1              4   347346         wyattvincent@hotmail.com   \n",
       "2              5   443000             tspencer@hotmail.com   \n",
       "3              6   412213                ogarcia@gmail.com   \n",
       "4              9   603436  madeline69@mccarthy-jackson.com   \n",
       "\n",
       "            created_dt     code  is_unsub           updated_dt  \n",
       "0  1992-11-18 16:46:27      NaN         1  1977-10-02 12:32:10  \n",
       "1  1983-11-26 16:49:14      NaN         1  2003-05-28 02:47:44  \n",
       "2  2000-11-15 13:28:34  twitter         1  2000-04-11 15:20:13  \n",
       "3  1984-03-08 11:40:21      NaN         1  1992-07-18 17:35:23  \n",
       "4  1976-06-28 08:58:19  twitter         1  1999-02-04 05:46:24  "
      ]
     },
     "execution_count": 68,
     "metadata": {},
     "output_type": "execute_result"
    }
   ],
   "source": [
    "df.head()"
   ]
  },
  {
   "cell_type": "code",
   "execution_count": 67,
   "metadata": {},
   "outputs": [],
   "source": [
    "# clean up your dates to a standardized format\n",
    "\n",
    "# remove the day of the week at the start. of each date\n",
    "df['updated_dt'] = df['updated_dt'].str.split(', ').str[-1].str.strip()\n",
    "df['created_dt'] = df['created_dt'].str.split(', ').str[-1].str.strip()\n",
    "\n"
   ]
  },
  {
   "cell_type": "code",
   "execution_count": 71,
   "metadata": {},
   "outputs": [],
   "source": [
    "# convert data to proper datetime object\n",
    "df['created_dt'] = pd.to_datetime(df['created_dt'], format = '%Y-%m-%d %H:%S:%f')\n",
    "df['created_dt'] = pd.to_datetime(df['created_dt'], format = '%Y-%m-%d %H:%S:%f')\n"
   ]
  },
  {
   "cell_type": "code",
   "execution_count": 79,
   "metadata": {},
   "outputs": [],
   "source": [
    "# drop id columns you don't need anymore\n",
    "df = df.drop(columns = ['cons_email_id', 'cons_id'])"
   ]
  },
  {
   "cell_type": "code",
   "execution_count": 80,
   "metadata": {},
   "outputs": [
    {
     "data": {
      "text/html": [
       "<div>\n",
       "<style scoped>\n",
       "    .dataframe tbody tr th:only-of-type {\n",
       "        vertical-align: middle;\n",
       "    }\n",
       "\n",
       "    .dataframe tbody tr th {\n",
       "        vertical-align: top;\n",
       "    }\n",
       "\n",
       "    .dataframe thead th {\n",
       "        text-align: right;\n",
       "    }\n",
       "</style>\n",
       "<table border=\"1\" class=\"dataframe\">\n",
       "  <thead>\n",
       "    <tr style=\"text-align: right;\">\n",
       "      <th></th>\n",
       "      <th>email</th>\n",
       "      <th>created_dt</th>\n",
       "      <th>code</th>\n",
       "      <th>is_unsub</th>\n",
       "      <th>updated_dt</th>\n",
       "    </tr>\n",
       "  </thead>\n",
       "  <tbody>\n",
       "    <tr>\n",
       "      <th>0</th>\n",
       "      <td>aaron64@yahoo.com</td>\n",
       "      <td>1992-11-18 16:00:46.270</td>\n",
       "      <td>NaN</td>\n",
       "      <td>1</td>\n",
       "      <td>1977-10-02 12:00:32.100</td>\n",
       "    </tr>\n",
       "    <tr>\n",
       "      <th>1</th>\n",
       "      <td>wyattvincent@hotmail.com</td>\n",
       "      <td>1983-11-26 16:00:49.140</td>\n",
       "      <td>NaN</td>\n",
       "      <td>1</td>\n",
       "      <td>2003-05-28 02:00:47.440</td>\n",
       "    </tr>\n",
       "    <tr>\n",
       "      <th>2</th>\n",
       "      <td>tspencer@hotmail.com</td>\n",
       "      <td>2000-11-15 13:00:28.340</td>\n",
       "      <td>twitter</td>\n",
       "      <td>1</td>\n",
       "      <td>2000-04-11 15:00:20.130</td>\n",
       "    </tr>\n",
       "    <tr>\n",
       "      <th>3</th>\n",
       "      <td>ogarcia@gmail.com</td>\n",
       "      <td>1984-03-08 11:00:40.210</td>\n",
       "      <td>NaN</td>\n",
       "      <td>1</td>\n",
       "      <td>1992-07-18 17:00:35.230</td>\n",
       "    </tr>\n",
       "    <tr>\n",
       "      <th>4</th>\n",
       "      <td>madeline69@mccarthy-jackson.com</td>\n",
       "      <td>1976-06-28 08:00:58.190</td>\n",
       "      <td>twitter</td>\n",
       "      <td>1</td>\n",
       "      <td>1999-02-04 05:00:46.240</td>\n",
       "    </tr>\n",
       "  </tbody>\n",
       "</table>\n",
       "</div>"
      ],
      "text/plain": [
       "                             email              created_dt     code  is_unsub  \\\n",
       "0                aaron64@yahoo.com 1992-11-18 16:00:46.270      NaN         1   \n",
       "1         wyattvincent@hotmail.com 1983-11-26 16:00:49.140      NaN         1   \n",
       "2             tspencer@hotmail.com 2000-11-15 13:00:28.340  twitter         1   \n",
       "3                ogarcia@gmail.com 1984-03-08 11:00:40.210      NaN         1   \n",
       "4  madeline69@mccarthy-jackson.com 1976-06-28 08:00:58.190  twitter         1   \n",
       "\n",
       "               updated_dt  \n",
       "0 1977-10-02 12:00:32.100  \n",
       "1 2003-05-28 02:00:47.440  \n",
       "2 2000-04-11 15:00:20.130  \n",
       "3 1992-07-18 17:00:35.230  \n",
       "4 1999-02-04 05:00:46.240  "
      ]
     },
     "execution_count": 80,
     "metadata": {},
     "output_type": "execute_result"
    }
   ],
   "source": [
    "df.head()"
   ]
  },
  {
   "cell_type": "code",
   "execution_count": 82,
   "metadata": {
    "scrolled": true
   },
   "outputs": [],
   "source": [
    "df.to_csv('people.csv', index = False)"
   ]
  },
  {
   "cell_type": "markdown",
   "metadata": {},
   "source": [
    "# Exercise 2"
   ]
  },
  {
   "cell_type": "code",
   "execution_count": 86,
   "metadata": {},
   "outputs": [
    {
     "data": {
      "text/plain": [
       "False"
      ]
     },
     "execution_count": 86,
     "metadata": {},
     "output_type": "execute_result"
    }
   ],
   "source": [
    "# check if there are duplicate emails (just in case)\n",
    "df['email'].duplicated().any()"
   ]
  },
  {
   "cell_type": "code",
   "execution_count": 100,
   "metadata": {},
   "outputs": [],
   "source": [
    "# convert created datetime to only include the calendar date (%Y-%m-%d)\n",
    "df = df.assign(created_dt = df['created_dt'].dt.round('D'))\n"
   ]
  },
  {
   "cell_type": "code",
   "execution_count": 106,
   "metadata": {},
   "outputs": [],
   "source": [
    "# group by created_dt and count number of unique constitutents\n",
    "acquisition = df.groupby('created_dt')['email'].nunique().reset_index()"
   ]
  },
  {
   "cell_type": "code",
   "execution_count": 108,
   "metadata": {},
   "outputs": [],
   "source": [
    "# rename columns to match desired schema\n",
    "col_rename_dict = {'created_dt': 'acquisition_date', 'email':'acquisitions'}\n",
    "acquisition = acquisition.rename(columns = col_rename_dict)"
   ]
  },
  {
   "cell_type": "code",
   "execution_count": 109,
   "metadata": {},
   "outputs": [
    {
     "data": {
      "text/html": [
       "<div>\n",
       "<style scoped>\n",
       "    .dataframe tbody tr th:only-of-type {\n",
       "        vertical-align: middle;\n",
       "    }\n",
       "\n",
       "    .dataframe tbody tr th {\n",
       "        vertical-align: top;\n",
       "    }\n",
       "\n",
       "    .dataframe thead th {\n",
       "        text-align: right;\n",
       "    }\n",
       "</style>\n",
       "<table border=\"1\" class=\"dataframe\">\n",
       "  <thead>\n",
       "    <tr style=\"text-align: right;\">\n",
       "      <th></th>\n",
       "      <th>acquisition_date</th>\n",
       "      <th>acquisitions</th>\n",
       "    </tr>\n",
       "  </thead>\n",
       "  <tbody>\n",
       "    <tr>\n",
       "      <th>0</th>\n",
       "      <td>1970-01-01</td>\n",
       "      <td>6</td>\n",
       "    </tr>\n",
       "    <tr>\n",
       "      <th>1</th>\n",
       "      <td>1970-01-02</td>\n",
       "      <td>12</td>\n",
       "    </tr>\n",
       "    <tr>\n",
       "      <th>2</th>\n",
       "      <td>1970-01-03</td>\n",
       "      <td>5</td>\n",
       "    </tr>\n",
       "    <tr>\n",
       "      <th>3</th>\n",
       "      <td>1970-01-04</td>\n",
       "      <td>8</td>\n",
       "    </tr>\n",
       "    <tr>\n",
       "      <th>4</th>\n",
       "      <td>1970-01-05</td>\n",
       "      <td>3</td>\n",
       "    </tr>\n",
       "  </tbody>\n",
       "</table>\n",
       "</div>"
      ],
      "text/plain": [
       "  acquisition_date  acquisitions\n",
       "0       1970-01-01             6\n",
       "1       1970-01-02            12\n",
       "2       1970-01-03             5\n",
       "3       1970-01-04             8\n",
       "4       1970-01-05             3"
      ]
     },
     "execution_count": 109,
     "metadata": {},
     "output_type": "execute_result"
    }
   ],
   "source": [
    "acquisition.head()"
   ]
  },
  {
   "cell_type": "code",
   "execution_count": 110,
   "metadata": {},
   "outputs": [],
   "source": [
    "# save as a csv file\n",
    "acquisition.to_csv('acquisition_facts.csv', index = False)"
   ]
  },
  {
   "cell_type": "code",
   "execution_count": null,
   "metadata": {},
   "outputs": [],
   "source": []
  }
 ],
 "metadata": {
  "kernelspec": {
   "display_name": "Python 3",
   "language": "python",
   "name": "python3"
  },
  "language_info": {
   "codemirror_mode": {
    "name": "ipython",
    "version": 3
   },
   "file_extension": ".py",
   "mimetype": "text/x-python",
   "name": "python",
   "nbconvert_exporter": "python",
   "pygments_lexer": "ipython3",
   "version": "3.8.5"
  }
 },
 "nbformat": 4,
 "nbformat_minor": 4
}
